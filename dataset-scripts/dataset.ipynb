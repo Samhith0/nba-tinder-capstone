{
 "cells": [
  {
   "cell_type": "code",
   "execution_count": null,
   "metadata": {},
   "outputs": [],
   "source": [
    "import glob\n",
    "import pandas as pd\n",
    "\n",
    "# List all CSV files in the current directory\n",
    "csv_files = glob.glob(\"*.csv\")\n",
    "\n",
    "# Define the range of years to keep\n",
    "years_to_keep = range(1997, 2018)\n",
    "\n",
    "# Function to filter rows based on the year\n",
    "def filter_years(df, years):\n",
    "    return df[df['Year'].isin(years)]\n",
    "\n",
    "# Process each CSV file\n",
    "for file in csv_files:\n",
    "    df = pd.read_csv(file)\n",
    "    df_filtered = filter_years(df, years_to_keep)\n",
    "    df_filtered.to_csv(file, index=False)"
   ]
  }
 ],
 "metadata": {
  "kernelspec": {
   "display_name": "Python 3",
   "language": "python",
   "name": "python3"
  },
  "language_info": {
   "name": "python",
   "version": "3.11.9"
  }
 },
 "nbformat": 4,
 "nbformat_minor": 2
}
